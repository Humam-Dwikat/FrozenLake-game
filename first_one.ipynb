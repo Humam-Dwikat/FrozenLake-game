{
 "cells": [
  {
   "cell_type": "code",
   "execution_count": 1,
   "id": "f76b234c-6b59-441a-a59a-62ed7ff48648",
   "metadata": {},
   "outputs": [],
   "source": [
    "import gym\n",
    "import numpy as np\n",
    "from numpy import random"
   ]
  },
  {
   "cell_type": "code",
   "execution_count": 2,
   "id": "dd2be07b-66a9-41a8-95d9-f7f330940e4d",
   "metadata": {},
   "outputs": [],
   "source": [
    "from gym.envs.toy_text.frozen_lake import generate_random_map\n"
   ]
  },
  {
   "cell_type": "code",
   "execution_count": 3,
   "id": "7509d3e5-37bc-4a71-8075-4487f62d04dd",
   "metadata": {},
   "outputs": [
    {
     "name": "stdout",
     "output_type": "stream",
     "text": [
      "\n",
      "\u001b[41mS\u001b[0mFFF\n",
      "HFFH\n",
      "FHFF\n",
      "HFFG\n"
     ]
    }
   ],
   "source": [
    "env = gym.make('FrozenLake-v0',desc=generate_random_map(4),is_slippery=False)\n",
    "env.reset()\n",
    "env.render()"
   ]
  },
  {
   "cell_type": "code",
   "execution_count": 21,
   "id": "36106693-2e19-40af-ad6a-fae3e73e6fb0",
   "metadata": {},
   "outputs": [
    {
     "name": "stdout",
     "output_type": "stream",
     "text": [
      "0\n"
     ]
    }
   ],
   "source": [
    "\n",
    "q_table = np.zeros((env.observation_space.n, env.action_space.n))\n",
    "print(env.reset())"
   ]
  },
  {
   "cell_type": "code",
   "execution_count": 15,
   "id": "502a94a5-587e-4494-bcab-3f1fef3b7375",
   "metadata": {},
   "outputs": [
    {
     "name": "stdout",
     "output_type": "stream",
     "text": [
      "run_lake: 0 total_rewards: 1.0 Steps: 6 Reward 1.0\n",
      "run_lake: 100 total_rewards: 89.0 Steps: 6 Reward 1.0\n",
      "run_lake: 200 total_rewards: 178.0 Steps: 7 Reward 1.0\n",
      "run_lake: 300 total_rewards: 265.0 Steps: 6 Reward 1.0\n",
      "run_lake: 400 total_rewards: 357.0 Steps: 6 Reward 1.0\n",
      "run_lake: 500 total_rewards: 447.0 Steps: 6 Reward 1.0\n",
      "run_lake: 600 total_rewards: 539.0 Steps: 6 Reward 1.0\n",
      "run_lake: 700 total_rewards: 626.0 Steps: 6 Reward 0.0\n",
      "run_lake: 800 total_rewards: 721.0 Steps: 6 Reward 1.0\n",
      "run_lake: 900 total_rewards: 810.0 Steps: 6 Reward 1.0\n"
     ]
    }
   ],
   "source": [
    "G = 0\n",
    "episodes = 1000  # Total number of episodes\n",
    "learning_rate = 0.01 # Learning rate\n",
    "discount = 0.5  # Discount factor\n",
    "exploration = 0.1\n",
    "\n",
    "for run_lake in range(episodes):\n",
    "    state = env.reset()\n",
    "    done = False\n",
    "    steps = 0\n",
    "    while not done:\n",
    "        steps += 1\n",
    "        random_value = random.uniform(0,1)\n",
    "        if (random_value <exploration):\n",
    "            action = env.action_space.sample()\n",
    "        else:\n",
    "            action = np.argmax(q_table[state])\n",
    "        \n",
    "        new_state, reward, done, info = env.step(action)\n",
    "        prev_q = q_table[state,action]\n",
    "        next_max_q = np.max(q_table[new_state])\n",
    "        #update Q-table  sample = (reward+(discount*next_max_q))\n",
    "        new_q = (1-learning_rate) * prev_q + learning_rate * (reward+(discount*next_max_q))\n",
    "        \n",
    "        G +=reward\n",
    "        q_table[state,action]= new_q\n",
    "        state = new_state\n",
    "    if(run_lake)%100==0:\n",
    "    \tprint('run_lake: {} total_rewards: {} Steps: {} Reward {}'.format(run_lake,G,steps,reward))\n"
   ]
  },
  {
   "cell_type": "code",
   "execution_count": 16,
   "id": "a7b91dcc-f46e-424e-8161-91537e37063f",
   "metadata": {},
   "outputs": [
    {
     "name": "stdout",
     "output_type": "stream",
     "text": [
      "iteration 10 Step 5\n",
      "  (Down)\n",
      "SFFF\n",
      "HFFH\n",
      "FHFF\n",
      "HFF\u001b[41mG\u001b[0m\n",
      "\n",
      "Average steps: 6.0\n",
      "Average Reward: 1.0\n"
     ]
    }
   ],
   "source": [
    "from IPython.display import clear_output\n",
    "from time import sleep\n",
    "steps=[]\n",
    "total_rewards = []\n",
    "for iteration in range(1, 11):\n",
    "    state = env.reset()\n",
    "   \n",
    "    done = False\n",
    "    number_steps = 0\n",
    "    \n",
    "    while not done and number_steps < 25:\n",
    "        action = np.argmax(q_table[state])\n",
    "        next_state, reward, done, info = env.step(action)\n",
    "        clear_output(wait=True)\n",
    "        print(\"iteration \" + str(iteration) + \" Step \" + str(number_steps))\n",
    "        print(env.render(mode='ansi'))\n",
    "        sleep(.2)\n",
    "        state = next_state\n",
    "        number_steps += 1\n",
    "    total_rewards.append(reward)\n",
    "    steps.append(number_steps)\n",
    "avg_reward = sum(total_rewards) / len(total_rewards) \n",
    "number_steps=sum(steps)/len(steps)\n",
    "print('Average steps: {}'.format(number_steps))\n",
    "print('Average Reward: {}'.format(avg_reward))\n"
   ]
  },
  {
   "cell_type": "code",
   "execution_count": null,
   "id": "642fb25f-703c-4dbb-8994-27aa4c0977e7",
   "metadata": {},
   "outputs": [],
   "source": []
  }
 ],
 "metadata": {
  "kernelspec": {
   "display_name": "Python 3 (ipykernel)",
   "language": "python",
   "name": "python3"
  },
  "language_info": {
   "codemirror_mode": {
    "name": "ipython",
    "version": 3
   },
   "file_extension": ".py",
   "mimetype": "text/x-python",
   "name": "python",
   "nbconvert_exporter": "python",
   "pygments_lexer": "ipython3",
   "version": "3.10.6"
  }
 },
 "nbformat": 4,
 "nbformat_minor": 5
}
